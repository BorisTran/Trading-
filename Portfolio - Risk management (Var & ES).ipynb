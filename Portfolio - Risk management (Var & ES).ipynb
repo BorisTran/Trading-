{
 "cells": [
  {
   "metadata": {
    "ExecuteTime": {
     "end_time": "2025-03-06T05:10:05.472399Z",
     "start_time": "2025-03-06T05:10:05.349860Z"
    }
   },
   "cell_type": "code",
   "source": [
    "import yfinance as yf\n",
    "import pandas as pd\n",
    "import numpy as np\n",
    "\n",
    "tickers = ['^GSPC', '^FCHI', 'NOW', 'NVDA', 'ATO.PA', 'BTC-USD']\n",
    "\n",
    "start_date = '2020-01-01'\n",
    "end_date = '2024-01-01'\n",
    "\n",
    "data = yf.download(tickers, start=start_date, end=end_date)['Close']\n",
    "\n",
    "returns = data.pct_change().dropna()\n",
    "\n",
    "confidence_level = 0.95\n",
    "\n",
    "# Calcul de la VaR par la méthode historique pour chaque actif\n",
    "var_results = {}\n",
    "for ticker in tickers:\n",
    "    var = np.percentile(returns[ticker], 100 * (1 - confidence_level))\n",
    "    var_results[ticker] = var\n",
    "\n",
    "print(\"Value at Risk (VaR) à 95% de confiance :\")\n",
    "for ticker, var in var_results.items():\n",
    "    print(f\"{ticker} : {var:.2%}\")\n",
    "\n",
    "# === Calcul de l'Expected Loss (Expected Shortfall) ===\n",
    "# L'Expected Loss correspond ici à la moyenne des rendements (pertes) dans le 5% des cas les plus défavorables\n",
    "expected_loss_results = {}\n",
    "for ticker in tickers:\n",
    "    var_threshold = np.percentile(returns[ticker], 100 * (1 - confidence_level))\n",
    "    tail_losses = returns[ticker][returns[ticker] <= var_threshold]\n",
    "    expected_loss = tail_losses.mean()\n",
    "    expected_loss_results[ticker] = expected_loss\n",
    "\n",
    "print(\"\\nExpected Loss (Expected Shortfall) à 95% de confiance :\")\n",
    "for ticker, el in expected_loss_results.items():\n",
    "    print(f\"{ticker} : {el:.2%}\")\n"
   ],
   "id": "799d24ce85541c82",
   "outputs": [
    {
     "name": "stderr",
     "output_type": "stream",
     "text": [
      "[*********************100%***********************]  6 of 6 completed"
     ]
    },
    {
     "name": "stdout",
     "output_type": "stream",
     "text": [
      "Value at Risk (VaR) à 95% de confiance :\n",
      "^GSPC : -1.69%\n",
      "^FCHI : -1.59%\n",
      "NOW : -3.95%\n",
      "NVDA : -4.29%\n",
      "ATO.PA : -4.44%\n",
      "BTC-USD : -5.10%\n",
      "\n",
      "Expected Loss (Expected Shortfall) à 95% de confiance :\n",
      "^GSPC : -2.99%\n",
      "^FCHI : -2.94%\n",
      "NOW : -5.50%\n",
      "NVDA : -6.25%\n",
      "ATO.PA : -8.16%\n",
      "BTC-USD : -7.98%\n"
     ]
    },
    {
     "name": "stderr",
     "output_type": "stream",
     "text": [
      "\n",
      "/var/folders/7k/q76k9h1s719g4pjw319p1lf40000gn/T/ipykernel_4112/2186657386.py:12: FutureWarning: The default fill_method='pad' in DataFrame.pct_change is deprecated and will be removed in a future version. Either fill in any non-leading NA values prior to calling pct_change or specify 'fill_method=None' to not fill NA values.\n",
      "  returns = data.pct_change().dropna()\n"
     ]
    }
   ],
   "execution_count": 13
  },
  {
   "metadata": {},
   "cell_type": "code",
   "outputs": [],
   "execution_count": null,
   "source": "",
   "id": "39ec5ae97768f198"
  }
 ],
 "metadata": {
  "kernelspec": {
   "display_name": "Python 3",
   "language": "python",
   "name": "python3"
  },
  "language_info": {
   "codemirror_mode": {
    "name": "ipython",
    "version": 2
   },
   "file_extension": ".py",
   "mimetype": "text/x-python",
   "name": "python",
   "nbconvert_exporter": "python",
   "pygments_lexer": "ipython2",
   "version": "2.7.6"
  }
 },
 "nbformat": 4,
 "nbformat_minor": 5
}
